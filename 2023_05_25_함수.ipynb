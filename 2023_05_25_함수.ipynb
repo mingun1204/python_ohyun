{
  "nbformat": 4,
  "nbformat_minor": 0,
  "metadata": {
    "colab": {
      "provenance": [],
      "authorship_tag": "ABX9TyO2kEUF3cBSoZ338L+RdAL/",
      "include_colab_link": true
    },
    "kernelspec": {
      "name": "python3",
      "display_name": "Python 3"
    },
    "language_info": {
      "name": "python"
    }
  },
  "cells": [
    {
      "cell_type": "markdown",
      "metadata": {
        "id": "view-in-github",
        "colab_type": "text"
      },
      "source": [
        "<a href=\"https://colab.research.google.com/github/mingun1204/python_ohyun/blob/main/2023_05_25_%ED%95%A8%EC%88%98.ipynb\" target=\"_parent\"><img src=\"https://colab.research.google.com/assets/colab-badge.svg\" alt=\"Open In Colab\"/></a>"
      ]
    },
    {
      "cell_type": "markdown",
      "source": [
        "#1. 함수의 기본 개념\n"
      ],
      "metadata": {
        "id": "2B6__z7SfI81"
      }
    },
    {
      "cell_type": "markdown",
      "source": [
        "##1.1 함수\n",
        "-코드 재사용 가능 <br>\n",
        "-실수 감소 <br>\n",
        "-코드의 구조 파악이 쉬워짐<br>\n",
        "-코드의 길이가 짧아짐<br>"
      ],
      "metadata": {
        "id": "VbZYlsINfadP"
      }
    },
    {
      "cell_type": "code",
      "source": [
        "def 덧셈():\n",
        "  pass\n",
        "\n",
        "덧셈()"
      ],
      "metadata": {
        "id": "O9U_MAMYfVih"
      },
      "execution_count": 2,
      "outputs": []
    },
    {
      "cell_type": "markdown",
      "source": [
        "###1.1.1 function\n",
        "1. 함수를 정의 : def \n",
        "2. 함수를 입력 : 파라미터\n",
        "3. 함수의 기능과 연산\n",
        "  함수 범위 : 들여쓰기\n",
        "  들여쓰기 : 공백 4번(권장) / 탭\n",
        "4. 함수 출력 : return\n",
        "  return이 없으면 None\n",
        "5. 함수 호출 : 함수명()\n"
      ],
      "metadata": {
        "id": "-bf5gFukf-fK"
      }
    },
    {
      "cell_type": "code",
      "source": [
        "def printnum(): #함수 정의\n",
        "  #코드 작성\n",
        "  print('1')\n",
        "  print('2')\n",
        "  print('3')\n",
        "\n",
        "printnum() #함수 호출"
      ],
      "metadata": {
        "colab": {
          "base_uri": "https://localhost:8080/"
        },
        "id": "o-y0t8lagz3K",
        "outputId": "ea002855-e69d-49a7-88f9-ea9299b940dd"
      },
      "execution_count": 5,
      "outputs": [
        {
          "output_type": "stream",
          "name": "stdout",
          "text": [
            "1\n",
            "2\n",
            "3\n"
          ]
        }
      ]
    },
    {
      "cell_type": "code",
      "source": [
        "def printnum(): #함수 정의\n",
        "  #코드 작성\n",
        "  print('1')\n",
        "  print('2')\n",
        "\n",
        "print('3')\n",
        "printnum() #함수 호출"
      ],
      "metadata": {
        "colab": {
          "base_uri": "https://localhost:8080/"
        },
        "id": "TkVSIhUOhde9",
        "outputId": "10408e66-7277-4837-b25f-3a9e2f1780c2"
      },
      "execution_count": 6,
      "outputs": [
        {
          "output_type": "stream",
          "name": "stdout",
          "text": [
            "3\n",
            "1\n",
            "2\n"
          ]
        }
      ]
    },
    {
      "cell_type": "code",
      "source": [
        "def function (x,y):\n",
        "  z=x+y\n",
        "  return z\n",
        "\n",
        "function(2,5)"
      ],
      "metadata": {
        "colab": {
          "base_uri": "https://localhost:8080/"
        },
        "id": "uskDqqoMhziL",
        "outputId": "739582b9-1c62-4387-c04e-63aad7c3cf0c"
      },
      "execution_count": 7,
      "outputs": [
        {
          "output_type": "execute_result",
          "data": {
            "text/plain": [
              "7"
            ]
          },
          "metadata": {},
          "execution_count": 7
        }
      ]
    },
    {
      "cell_type": "code",
      "source": [
        "def function (x,y):\n",
        "  z=x+y\n",
        "  print(z)\n",
        "\n",
        "print(function(2,5))"
      ],
      "metadata": {
        "colab": {
          "base_uri": "https://localhost:8080/"
        },
        "id": "r3F5VmltjY_Y",
        "outputId": "a2b6a4c1-f8c1-453b-89ad-f0b66d09ed66"
      },
      "execution_count": 8,
      "outputs": [
        {
          "output_type": "stream",
          "name": "stdout",
          "text": [
            "7\n",
            "None\n"
          ]
        }
      ]
    },
    {
      "cell_type": "code",
      "source": [
        "PI =3.14 # 상수 : 변경할 수 없는 수\n",
        "\n",
        "def circle(r,inputpi): #inputpi = 지역변수\n",
        "  z=r*r*inputpi\n",
        "  return z\n",
        "\n",
        "result=circle(10,PI)\n",
        "print(result)"
      ],
      "metadata": {
        "colab": {
          "base_uri": "https://localhost:8080/"
        },
        "id": "NFM_YGZpj2_d",
        "outputId": "84b595e6-62e6-4242-81bd-ee60e5320169"
      },
      "execution_count": 12,
      "outputs": [
        {
          "output_type": "stream",
          "name": "stdout",
          "text": [
            "314.0\n"
          ]
        }
      ]
    },
    {
      "cell_type": "markdown",
      "source": [
        "###1.1.2 함수 안에 함수 만들기"
      ],
      "metadata": {
        "id": "vTtRIPfxk7gO"
      }
    },
    {
      "cell_type": "code",
      "source": [
        "def 함수명1():\n",
        "  code\n",
        "  def 함수명2():\n",
        "    code"
      ],
      "metadata": {
        "id": "OSVFRY3nk99s"
      },
      "execution_count": 13,
      "outputs": []
    },
    {
      "cell_type": "code",
      "source": [
        "def print_text():\n",
        "  text=\"python 기초\"\n",
        "  def print_text2():\n",
        "    print(text)\n",
        "  print_text2\n",
        "\n",
        "print_text()"
      ],
      "metadata": {
        "id": "xR0ZCmZflNGE"
      },
      "execution_count": 14,
      "outputs": []
    },
    {
      "cell_type": "markdown",
      "source": [
        "### 1.1.3 함수의 아규먼트와 파라미터"
      ],
      "metadata": {
        "id": "PqUPPgRGl6sn"
      }
    },
    {
      "cell_type": "code",
      "source": [
        "def f(a,b,c):\n",
        "  print(a,b,c)\n",
        "\n",
        "#f() # error\n",
        "#f(100,10) #error\n",
        "#f(10,20,30)\n",
        "#f(a=100,c=300,b=200) # 지정하면 순서 바꾸기 가능\n"
      ],
      "metadata": {
        "colab": {
          "base_uri": "https://localhost:8080/"
        },
        "id": "ylXfwtiQl-z1",
        "outputId": "b5d309ae-ec3e-4b7c-a02d-cb8b5257a9a4"
      },
      "execution_count": 16,
      "outputs": [
        {
          "output_type": "stream",
          "name": "stdout",
          "text": [
            "100 200 300\n"
          ]
        }
      ]
    },
    {
      "cell_type": "code",
      "source": [
        "def f(a =10,b=20,c=30): # 파라미터 안 변수 값 지정\n",
        "  print(a,b,c)\n",
        "\n",
        "#f()\n",
        "# f(100,10) # a=100,b=10,c=30으로 출력\n"
      ],
      "metadata": {
        "colab": {
          "base_uri": "https://localhost:8080/"
        },
        "id": "iFWyFIpCmUXe",
        "outputId": "deeb1bcc-a85f-4559-d465-7cf621c5ac5b"
      },
      "execution_count": 23,
      "outputs": [
        {
          "output_type": "stream",
          "name": "stdout",
          "text": [
            "100 10 30\n"
          ]
        }
      ]
    },
    {
      "cell_type": "code",
      "source": [
        "#def f(a=10,b=20,c): #파라미터 안 모든 변수에 값 지정 해야함 (단, a는 지정 안해도 됨)\n",
        "  # print(a,b,c)\n"
      ],
      "metadata": {
        "id": "P9qQRr64mweL"
      },
      "execution_count": 27,
      "outputs": []
    },
    {
      "cell_type": "markdown",
      "source": [
        "#2. 지역변수와 전역변수\n",
        "지역변수\n",
        "- 함수 내부에서만 사용되는 변수\n",
        "- 함수가 호출되는 동안에만 변수를 사용할 수 있고, 함수가 끝나는 동시에 소멸됨\n",
        "- 함수 안에서 함수 밖에 있는 변수를 호출할 수 없음\n",
        "\n",
        "전역변수\n",
        "- 프로그램 어디에서나 접근이 가능한 변수\n",
        "- 함수 내에서 global를 입력하면 전역변수로 사용 가능\n",
        "- 하지만, 전역변수 사용을 권장하진 않음"
      ],
      "metadata": {
        "id": "gX0GRGdYn9Mg"
      }
    },
    {
      "cell_type": "markdown",
      "source": [
        "##2.1 지역변수\n"
      ],
      "metadata": {
        "id": "eeAK2apnqY9x"
      }
    },
    {
      "cell_type": "code",
      "source": [
        "# #error\n",
        "# a=100\n",
        "# def f():\n",
        "#   a=a+1\n",
        "#   print(a)\n",
        "\n",
        "# f()"
      ],
      "metadata": {
        "id": "JEVBlzKDodNO"
      },
      "execution_count": 33,
      "outputs": []
    },
    {
      "cell_type": "code",
      "source": [
        "a=100\n",
        "def f(a):\n",
        "  a=a+1\n",
        "  print(a)\n",
        "\n",
        "f(a)"
      ],
      "metadata": {
        "colab": {
          "base_uri": "https://localhost:8080/"
        },
        "id": "8HerFWOCpSvT",
        "outputId": "3e461a34-9f2e-4c17-b673-5f44f15e45db"
      },
      "execution_count": 35,
      "outputs": [
        {
          "output_type": "stream",
          "name": "stdout",
          "text": [
            "101\n"
          ]
        }
      ]
    },
    {
      "cell_type": "markdown",
      "source": [
        "##2.2 전역변수\n"
      ],
      "metadata": {
        "id": "SNpQg5EzqAxO"
      }
    },
    {
      "cell_type": "code",
      "source": [
        "a = 100\n",
        "\n",
        "def f():\n",
        "  global a\n",
        "  a=a+1\n",
        "  return a\n",
        "\n",
        "result = f()\n",
        "print(\"result :\",result)"
      ],
      "metadata": {
        "colab": {
          "base_uri": "https://localhost:8080/"
        },
        "id": "KaemmIqfqF3E",
        "outputId": "c7f935c4-18ff-4f8f-c365-e28affa7f667"
      },
      "execution_count": 37,
      "outputs": [
        {
          "output_type": "stream",
          "name": "stdout",
          "text": [
            "result : 101\n"
          ]
        }
      ]
    },
    {
      "cell_type": "code",
      "source": [
        "a = 100\n",
        "\n",
        "def f():\n",
        "  a=a+1\n",
        "  return a\n",
        "\n",
        "result = f()\n",
        "print(\"result :\",result)"
      ],
      "metadata": {
        "colab": {
          "base_uri": "https://localhost:8080/",
          "height": 363
        },
        "id": "LV8z0yvlqPqm",
        "outputId": "0c111ea2-d55d-4c85-88bb-1c3522b5e183"
      },
      "execution_count": 39,
      "outputs": [
        {
          "output_type": "error",
          "ename": "UnboundLocalError",
          "evalue": "ignored",
          "traceback": [
            "\u001b[0;31m---------------------------------------------------------------------------\u001b[0m",
            "\u001b[0;31mUnboundLocalError\u001b[0m                         Traceback (most recent call last)",
            "\u001b[0;32m<ipython-input-39-c3fe2f090792>\u001b[0m in \u001b[0;36m<cell line: 7>\u001b[0;34m()\u001b[0m\n\u001b[1;32m      5\u001b[0m   \u001b[0;32mreturn\u001b[0m \u001b[0ma\u001b[0m\u001b[0;34m\u001b[0m\u001b[0;34m\u001b[0m\u001b[0m\n\u001b[1;32m      6\u001b[0m \u001b[0;34m\u001b[0m\u001b[0m\n\u001b[0;32m----> 7\u001b[0;31m \u001b[0mresult\u001b[0m \u001b[0;34m=\u001b[0m \u001b[0mf\u001b[0m\u001b[0;34m(\u001b[0m\u001b[0;34m)\u001b[0m\u001b[0;34m\u001b[0m\u001b[0;34m\u001b[0m\u001b[0m\n\u001b[0m\u001b[1;32m      8\u001b[0m \u001b[0mprint\u001b[0m\u001b[0;34m(\u001b[0m\u001b[0;34m\"result :\"\u001b[0m\u001b[0;34m,\u001b[0m\u001b[0mresult\u001b[0m\u001b[0;34m)\u001b[0m\u001b[0;34m\u001b[0m\u001b[0;34m\u001b[0m\u001b[0m\n",
            "\u001b[0;32m<ipython-input-39-c3fe2f090792>\u001b[0m in \u001b[0;36mf\u001b[0;34m()\u001b[0m\n\u001b[1;32m      2\u001b[0m \u001b[0;34m\u001b[0m\u001b[0m\n\u001b[1;32m      3\u001b[0m \u001b[0;32mdef\u001b[0m \u001b[0mf\u001b[0m\u001b[0;34m(\u001b[0m\u001b[0;34m)\u001b[0m\u001b[0;34m:\u001b[0m\u001b[0;34m\u001b[0m\u001b[0;34m\u001b[0m\u001b[0m\n\u001b[0;32m----> 4\u001b[0;31m   \u001b[0ma\u001b[0m\u001b[0;34m=\u001b[0m\u001b[0ma\u001b[0m\u001b[0;34m+\u001b[0m\u001b[0;36m1\u001b[0m\u001b[0;34m\u001b[0m\u001b[0;34m\u001b[0m\u001b[0m\n\u001b[0m\u001b[1;32m      5\u001b[0m   \u001b[0;32mreturn\u001b[0m \u001b[0ma\u001b[0m\u001b[0;34m\u001b[0m\u001b[0;34m\u001b[0m\u001b[0m\n\u001b[1;32m      6\u001b[0m \u001b[0;34m\u001b[0m\u001b[0m\n",
            "\u001b[0;31mUnboundLocalError\u001b[0m: local variable 'a' referenced before assignment"
          ]
        }
      ]
    },
    {
      "cell_type": "markdown",
      "source": [
        "#3.재귀함수(recursion)\n",
        "내가 나를 호출하여 반복적으로 값을 반환하는 함수\n"
      ],
      "metadata": {
        "id": "LwowqoeQqwY1"
      }
    },
    {
      "cell_type": "code",
      "source": [
        "def 숫자출력(): # 무한반복 후 error(파이썬에서 제한)\n",
        "  print(1)\n",
        "  return 숫자출력()\n",
        "\n",
        "숫자출력()"
      ],
      "metadata": {
        "id": "8CGVY74FqlZf"
      },
      "execution_count": null,
      "outputs": []
    },
    {
      "cell_type": "code",
      "source": [
        "#sys.setrecursionlimit #파이썬에서 제한한 숫자를 바꿈\n",
        "import sys\n",
        "\n",
        "sys.setrecursionlimit(1000000)\n",
        "\n",
        "def 숫자출력(): \n",
        "  print(1)\n",
        "  return 숫자출력()\n",
        "\n",
        "숫자출력()"
      ],
      "metadata": {
        "id": "mcMN3Hx9rBvc"
      },
      "execution_count": null,
      "outputs": []
    },
    {
      "cell_type": "markdown",
      "source": [
        "##3.1 무한 반복에 종료 조건을 부여"
      ],
      "metadata": {
        "id": "EGzQLyk8sBSS"
      }
    },
    {
      "cell_type": "code",
      "source": [
        "def 숫자출력(count):\n",
        "  if count > 100:\n",
        "    return\n",
        "  print(count)\n",
        "  return 숫자출력(count+1)\n",
        "\n",
        "숫자출력(1)"
      ],
      "metadata": {
        "colab": {
          "base_uri": "https://localhost:8080/"
        },
        "id": "1Kp9w7wnrltm",
        "outputId": "1c68952a-1d46-4d57-90f7-fcd6316ab82c"
      },
      "execution_count": 1,
      "outputs": [
        {
          "output_type": "stream",
          "name": "stdout",
          "text": [
            "1\n",
            "2\n",
            "3\n",
            "4\n",
            "5\n",
            "6\n",
            "7\n",
            "8\n",
            "9\n",
            "10\n",
            "11\n",
            "12\n",
            "13\n",
            "14\n",
            "15\n",
            "16\n",
            "17\n",
            "18\n",
            "19\n",
            "20\n",
            "21\n",
            "22\n",
            "23\n",
            "24\n",
            "25\n",
            "26\n",
            "27\n",
            "28\n",
            "29\n",
            "30\n",
            "31\n",
            "32\n",
            "33\n",
            "34\n",
            "35\n",
            "36\n",
            "37\n",
            "38\n",
            "39\n",
            "40\n",
            "41\n",
            "42\n",
            "43\n",
            "44\n",
            "45\n",
            "46\n",
            "47\n",
            "48\n",
            "49\n",
            "50\n",
            "51\n",
            "52\n",
            "53\n",
            "54\n",
            "55\n",
            "56\n",
            "57\n",
            "58\n",
            "59\n",
            "60\n",
            "61\n",
            "62\n",
            "63\n",
            "64\n",
            "65\n",
            "66\n",
            "67\n",
            "68\n",
            "69\n",
            "70\n",
            "71\n",
            "72\n",
            "73\n",
            "74\n",
            "75\n",
            "76\n",
            "77\n",
            "78\n",
            "79\n",
            "80\n",
            "81\n",
            "82\n",
            "83\n",
            "84\n",
            "85\n",
            "86\n",
            "87\n",
            "88\n",
            "89\n",
            "90\n",
            "91\n",
            "92\n",
            "93\n",
            "94\n",
            "95\n",
            "96\n",
            "97\n",
            "98\n",
            "99\n",
            "100\n"
          ]
        }
      ]
    },
    {
      "cell_type": "markdown",
      "source": [
        "##3.2 factorial 함수"
      ],
      "metadata": {
        "id": "RXrvXZX9suza"
      }
    },
    {
      "cell_type": "code",
      "source": [
        "def factorial(n):\n",
        "  if n==1:\n",
        "    return 1\n",
        "  else:\n",
        "    return n*factorial(n-1)\n",
        "\n",
        "factorial(5)"
      ],
      "metadata": {
        "colab": {
          "base_uri": "https://localhost:8080/"
        },
        "id": "sRj-yqiQsVn-",
        "outputId": "522e7710-0598-49a0-f2a9-770883d5cade"
      },
      "execution_count": 2,
      "outputs": [
        {
          "output_type": "execute_result",
          "data": {
            "text/plain": [
              "120"
            ]
          },
          "metadata": {},
          "execution_count": 2
        }
      ]
    },
    {
      "cell_type": "code",
      "source": [],
      "metadata": {
        "id": "h-C3DxFus8o5"
      },
      "execution_count": null,
      "outputs": []
    }
  ]
}